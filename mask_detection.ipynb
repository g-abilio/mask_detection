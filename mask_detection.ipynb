{
  "cells": [
    {
      "cell_type": "code",
      "execution_count": 60,
      "metadata": {
        "id": "YBldEEUXrEWr",
        "colab": {
          "base_uri": "https://localhost:8080/"
        },
        "outputId": "88a31971-8d7d-4802-ff5c-d69d49991135"
      },
      "outputs": [
        {
          "output_type": "stream",
          "name": "stdout",
          "text": [
            "Tue Nov 26 22:23:54 2024       \n",
            "+---------------------------------------------------------------------------------------+\n",
            "| NVIDIA-SMI 535.104.05             Driver Version: 535.104.05   CUDA Version: 12.2     |\n",
            "|-----------------------------------------+----------------------+----------------------+\n",
            "| GPU  Name                 Persistence-M | Bus-Id        Disp.A | Volatile Uncorr. ECC |\n",
            "| Fan  Temp   Perf          Pwr:Usage/Cap |         Memory-Usage | GPU-Util  Compute M. |\n",
            "|                                         |                      |               MIG M. |\n",
            "|=========================================+======================+======================|\n",
            "|   0  Tesla T4                       Off | 00000000:00:04.0 Off |                    0 |\n",
            "| N/A   70C    P0              31W /  70W |   1665MiB / 15360MiB |      0%      Default |\n",
            "|                                         |                      |                  N/A |\n",
            "+-----------------------------------------+----------------------+----------------------+\n",
            "                                                                                         \n",
            "+---------------------------------------------------------------------------------------+\n",
            "| Processes:                                                                            |\n",
            "|  GPU   GI   CI        PID   Type   Process name                            GPU Memory |\n",
            "|        ID   ID                                                             Usage      |\n",
            "|=======================================================================================|\n",
            "+---------------------------------------------------------------------------------------+\n"
          ]
        }
      ],
      "source": [
        "!nvidia-smi"
      ]
    },
    {
      "cell_type": "code",
      "execution_count": 61,
      "metadata": {
        "id": "j6B0fIsLrI0T",
        "colab": {
          "base_uri": "https://localhost:8080/",
          "height": 37
        },
        "outputId": "00a0d74d-349c-49a9-e7db-b17c1f896c78"
      },
      "outputs": [
        {
          "output_type": "execute_result",
          "data": {
            "text/plain": [
              "'cuda'"
            ],
            "application/vnd.google.colaboratory.intrinsic+json": {
              "type": "string"
            }
          },
          "metadata": {},
          "execution_count": 61
        }
      ],
      "source": [
        "import torch\n",
        "\n",
        "if torch.cuda.is_available():\n",
        "  device = \"cuda\"\n",
        "else:\n",
        "  device = \"cpu\"\n",
        "\n",
        "device"
      ]
    },
    {
      "cell_type": "markdown",
      "metadata": {
        "id": "5TUtkOX9rUc3"
      },
      "source": [
        "## Preparing the data"
      ]
    },
    {
      "cell_type": "code",
      "execution_count": 62,
      "metadata": {
        "id": "Otr0UX7LrOQz",
        "colab": {
          "base_uri": "https://localhost:8080/"
        },
        "outputId": "06651859-9ea0-4c8c-8751-ccddd5a07efc"
      },
      "outputs": [
        {
          "output_type": "stream",
          "name": "stdout",
          "text": [
            "File is already unzipped\n"
          ]
        }
      ],
      "source": [
        "# unziping the data\n",
        "\n",
        "import os\n",
        "\n",
        "zip_file = \"aux_data.zip\"\n",
        "\n",
        "if os.path.exists(\"aux_data\"):\n",
        "  print(\"File is already unzipped\")\n",
        "else:\n",
        "  !unzip aux_data.zip\n",
        "  print(\"File unzipped\")"
      ]
    },
    {
      "cell_type": "markdown",
      "metadata": {
        "id": "AO5FllOuy6QA",
        "jp-MarkdownHeadingCollapsed": true
      },
      "source": [
        "### Creating a DataFrame that contains all the images paths and it's emotions"
      ]
    },
    {
      "cell_type": "code",
      "execution_count": 63,
      "metadata": {
        "id": "kdYQx-9SzbDe"
      },
      "outputs": [],
      "source": [
        "# creating initial dataframe\n",
        "\n",
        "import pandas as pd\n",
        "import glob\n",
        "import os\n",
        "\n",
        "with_mask_image_path = glob.glob(os.path.join(\"aux_data/images/with_mask\", \"*.jpg\"))\n",
        "df = pd.DataFrame({\"Images\": with_mask_image_path, \"Mask\": 1})\n",
        "\n",
        "without_mask_image_path = glob.glob(os.path.join(\"aux_data/images/without_mask\", \"*.jpg\"))\n",
        "df_new = pd.DataFrame({\"Images\": without_mask_image_path, \"Mask\": 0})\n",
        "df = pd.concat([df, df_new], ignore_index = True)"
      ]
    },
    {
      "cell_type": "code",
      "execution_count": 64,
      "metadata": {
        "id": "845hBigd0ANS",
        "colab": {
          "base_uri": "https://localhost:8080/",
          "height": 419
        },
        "outputId": "8bdaf280-52fb-4e42-e266-34eb683b4648"
      },
      "outputs": [
        {
          "output_type": "execute_result",
          "data": {
            "text/plain": [
              "                                                 Images  Mask\n",
              "0          aux_data/images/with_mask/with_mask_3406.jpg     1\n",
              "1          aux_data/images/with_mask/with_mask_3579.jpg     1\n",
              "2           aux_data/images/with_mask/with_mask_374.jpg     1\n",
              "3          aux_data/images/with_mask/with_mask_1629.jpg     1\n",
              "4          aux_data/images/with_mask/with_mask_1749.jpg     1\n",
              "...                                                 ...   ...\n",
              "7548  aux_data/images/without_mask/without_mask_3351...     0\n",
              "7549   aux_data/images/without_mask/without_mask_93.jpg     0\n",
              "7550  aux_data/images/without_mask/without_mask_2464...     0\n",
              "7551  aux_data/images/without_mask/without_mask_1198...     0\n",
              "7552  aux_data/images/without_mask/without_mask_221.jpg     0\n",
              "\n",
              "[7553 rows x 2 columns]"
            ],
            "text/html": [
              "\n",
              "  <div id=\"df-85c856d6-c434-4d13-a0bd-b30b982dd4ca\" class=\"colab-df-container\">\n",
              "    <div>\n",
              "<style scoped>\n",
              "    .dataframe tbody tr th:only-of-type {\n",
              "        vertical-align: middle;\n",
              "    }\n",
              "\n",
              "    .dataframe tbody tr th {\n",
              "        vertical-align: top;\n",
              "    }\n",
              "\n",
              "    .dataframe thead th {\n",
              "        text-align: right;\n",
              "    }\n",
              "</style>\n",
              "<table border=\"1\" class=\"dataframe\">\n",
              "  <thead>\n",
              "    <tr style=\"text-align: right;\">\n",
              "      <th></th>\n",
              "      <th>Images</th>\n",
              "      <th>Mask</th>\n",
              "    </tr>\n",
              "  </thead>\n",
              "  <tbody>\n",
              "    <tr>\n",
              "      <th>0</th>\n",
              "      <td>aux_data/images/with_mask/with_mask_3406.jpg</td>\n",
              "      <td>1</td>\n",
              "    </tr>\n",
              "    <tr>\n",
              "      <th>1</th>\n",
              "      <td>aux_data/images/with_mask/with_mask_3579.jpg</td>\n",
              "      <td>1</td>\n",
              "    </tr>\n",
              "    <tr>\n",
              "      <th>2</th>\n",
              "      <td>aux_data/images/with_mask/with_mask_374.jpg</td>\n",
              "      <td>1</td>\n",
              "    </tr>\n",
              "    <tr>\n",
              "      <th>3</th>\n",
              "      <td>aux_data/images/with_mask/with_mask_1629.jpg</td>\n",
              "      <td>1</td>\n",
              "    </tr>\n",
              "    <tr>\n",
              "      <th>4</th>\n",
              "      <td>aux_data/images/with_mask/with_mask_1749.jpg</td>\n",
              "      <td>1</td>\n",
              "    </tr>\n",
              "    <tr>\n",
              "      <th>...</th>\n",
              "      <td>...</td>\n",
              "      <td>...</td>\n",
              "    </tr>\n",
              "    <tr>\n",
              "      <th>7548</th>\n",
              "      <td>aux_data/images/without_mask/without_mask_3351...</td>\n",
              "      <td>0</td>\n",
              "    </tr>\n",
              "    <tr>\n",
              "      <th>7549</th>\n",
              "      <td>aux_data/images/without_mask/without_mask_93.jpg</td>\n",
              "      <td>0</td>\n",
              "    </tr>\n",
              "    <tr>\n",
              "      <th>7550</th>\n",
              "      <td>aux_data/images/without_mask/without_mask_2464...</td>\n",
              "      <td>0</td>\n",
              "    </tr>\n",
              "    <tr>\n",
              "      <th>7551</th>\n",
              "      <td>aux_data/images/without_mask/without_mask_1198...</td>\n",
              "      <td>0</td>\n",
              "    </tr>\n",
              "    <tr>\n",
              "      <th>7552</th>\n",
              "      <td>aux_data/images/without_mask/without_mask_221.jpg</td>\n",
              "      <td>0</td>\n",
              "    </tr>\n",
              "  </tbody>\n",
              "</table>\n",
              "<p>7553 rows × 2 columns</p>\n",
              "</div>\n",
              "    <div class=\"colab-df-buttons\">\n",
              "\n",
              "  <div class=\"colab-df-container\">\n",
              "    <button class=\"colab-df-convert\" onclick=\"convertToInteractive('df-85c856d6-c434-4d13-a0bd-b30b982dd4ca')\"\n",
              "            title=\"Convert this dataframe to an interactive table.\"\n",
              "            style=\"display:none;\">\n",
              "\n",
              "  <svg xmlns=\"http://www.w3.org/2000/svg\" height=\"24px\" viewBox=\"0 -960 960 960\">\n",
              "    <path d=\"M120-120v-720h720v720H120Zm60-500h600v-160H180v160Zm220 220h160v-160H400v160Zm0 220h160v-160H400v160ZM180-400h160v-160H180v160Zm440 0h160v-160H620v160ZM180-180h160v-160H180v160Zm440 0h160v-160H620v160Z\"/>\n",
              "  </svg>\n",
              "    </button>\n",
              "\n",
              "  <style>\n",
              "    .colab-df-container {\n",
              "      display:flex;\n",
              "      gap: 12px;\n",
              "    }\n",
              "\n",
              "    .colab-df-convert {\n",
              "      background-color: #E8F0FE;\n",
              "      border: none;\n",
              "      border-radius: 50%;\n",
              "      cursor: pointer;\n",
              "      display: none;\n",
              "      fill: #1967D2;\n",
              "      height: 32px;\n",
              "      padding: 0 0 0 0;\n",
              "      width: 32px;\n",
              "    }\n",
              "\n",
              "    .colab-df-convert:hover {\n",
              "      background-color: #E2EBFA;\n",
              "      box-shadow: 0px 1px 2px rgba(60, 64, 67, 0.3), 0px 1px 3px 1px rgba(60, 64, 67, 0.15);\n",
              "      fill: #174EA6;\n",
              "    }\n",
              "\n",
              "    .colab-df-buttons div {\n",
              "      margin-bottom: 4px;\n",
              "    }\n",
              "\n",
              "    [theme=dark] .colab-df-convert {\n",
              "      background-color: #3B4455;\n",
              "      fill: #D2E3FC;\n",
              "    }\n",
              "\n",
              "    [theme=dark] .colab-df-convert:hover {\n",
              "      background-color: #434B5C;\n",
              "      box-shadow: 0px 1px 3px 1px rgba(0, 0, 0, 0.15);\n",
              "      filter: drop-shadow(0px 1px 2px rgba(0, 0, 0, 0.3));\n",
              "      fill: #FFFFFF;\n",
              "    }\n",
              "  </style>\n",
              "\n",
              "    <script>\n",
              "      const buttonEl =\n",
              "        document.querySelector('#df-85c856d6-c434-4d13-a0bd-b30b982dd4ca button.colab-df-convert');\n",
              "      buttonEl.style.display =\n",
              "        google.colab.kernel.accessAllowed ? 'block' : 'none';\n",
              "\n",
              "      async function convertToInteractive(key) {\n",
              "        const element = document.querySelector('#df-85c856d6-c434-4d13-a0bd-b30b982dd4ca');\n",
              "        const dataTable =\n",
              "          await google.colab.kernel.invokeFunction('convertToInteractive',\n",
              "                                                    [key], {});\n",
              "        if (!dataTable) return;\n",
              "\n",
              "        const docLinkHtml = 'Like what you see? Visit the ' +\n",
              "          '<a target=\"_blank\" href=https://colab.research.google.com/notebooks/data_table.ipynb>data table notebook</a>'\n",
              "          + ' to learn more about interactive tables.';\n",
              "        element.innerHTML = '';\n",
              "        dataTable['output_type'] = 'display_data';\n",
              "        await google.colab.output.renderOutput(dataTable, element);\n",
              "        const docLink = document.createElement('div');\n",
              "        docLink.innerHTML = docLinkHtml;\n",
              "        element.appendChild(docLink);\n",
              "      }\n",
              "    </script>\n",
              "  </div>\n",
              "\n",
              "\n",
              "<div id=\"df-beab2e07-cf2a-47cc-a1ee-5c83dac2b76b\">\n",
              "  <button class=\"colab-df-quickchart\" onclick=\"quickchart('df-beab2e07-cf2a-47cc-a1ee-5c83dac2b76b')\"\n",
              "            title=\"Suggest charts\"\n",
              "            style=\"display:none;\">\n",
              "\n",
              "<svg xmlns=\"http://www.w3.org/2000/svg\" height=\"24px\"viewBox=\"0 0 24 24\"\n",
              "     width=\"24px\">\n",
              "    <g>\n",
              "        <path d=\"M19 3H5c-1.1 0-2 .9-2 2v14c0 1.1.9 2 2 2h14c1.1 0 2-.9 2-2V5c0-1.1-.9-2-2-2zM9 17H7v-7h2v7zm4 0h-2V7h2v10zm4 0h-2v-4h2v4z\"/>\n",
              "    </g>\n",
              "</svg>\n",
              "  </button>\n",
              "\n",
              "<style>\n",
              "  .colab-df-quickchart {\n",
              "      --bg-color: #E8F0FE;\n",
              "      --fill-color: #1967D2;\n",
              "      --hover-bg-color: #E2EBFA;\n",
              "      --hover-fill-color: #174EA6;\n",
              "      --disabled-fill-color: #AAA;\n",
              "      --disabled-bg-color: #DDD;\n",
              "  }\n",
              "\n",
              "  [theme=dark] .colab-df-quickchart {\n",
              "      --bg-color: #3B4455;\n",
              "      --fill-color: #D2E3FC;\n",
              "      --hover-bg-color: #434B5C;\n",
              "      --hover-fill-color: #FFFFFF;\n",
              "      --disabled-bg-color: #3B4455;\n",
              "      --disabled-fill-color: #666;\n",
              "  }\n",
              "\n",
              "  .colab-df-quickchart {\n",
              "    background-color: var(--bg-color);\n",
              "    border: none;\n",
              "    border-radius: 50%;\n",
              "    cursor: pointer;\n",
              "    display: none;\n",
              "    fill: var(--fill-color);\n",
              "    height: 32px;\n",
              "    padding: 0;\n",
              "    width: 32px;\n",
              "  }\n",
              "\n",
              "  .colab-df-quickchart:hover {\n",
              "    background-color: var(--hover-bg-color);\n",
              "    box-shadow: 0 1px 2px rgba(60, 64, 67, 0.3), 0 1px 3px 1px rgba(60, 64, 67, 0.15);\n",
              "    fill: var(--button-hover-fill-color);\n",
              "  }\n",
              "\n",
              "  .colab-df-quickchart-complete:disabled,\n",
              "  .colab-df-quickchart-complete:disabled:hover {\n",
              "    background-color: var(--disabled-bg-color);\n",
              "    fill: var(--disabled-fill-color);\n",
              "    box-shadow: none;\n",
              "  }\n",
              "\n",
              "  .colab-df-spinner {\n",
              "    border: 2px solid var(--fill-color);\n",
              "    border-color: transparent;\n",
              "    border-bottom-color: var(--fill-color);\n",
              "    animation:\n",
              "      spin 1s steps(1) infinite;\n",
              "  }\n",
              "\n",
              "  @keyframes spin {\n",
              "    0% {\n",
              "      border-color: transparent;\n",
              "      border-bottom-color: var(--fill-color);\n",
              "      border-left-color: var(--fill-color);\n",
              "    }\n",
              "    20% {\n",
              "      border-color: transparent;\n",
              "      border-left-color: var(--fill-color);\n",
              "      border-top-color: var(--fill-color);\n",
              "    }\n",
              "    30% {\n",
              "      border-color: transparent;\n",
              "      border-left-color: var(--fill-color);\n",
              "      border-top-color: var(--fill-color);\n",
              "      border-right-color: var(--fill-color);\n",
              "    }\n",
              "    40% {\n",
              "      border-color: transparent;\n",
              "      border-right-color: var(--fill-color);\n",
              "      border-top-color: var(--fill-color);\n",
              "    }\n",
              "    60% {\n",
              "      border-color: transparent;\n",
              "      border-right-color: var(--fill-color);\n",
              "    }\n",
              "    80% {\n",
              "      border-color: transparent;\n",
              "      border-right-color: var(--fill-color);\n",
              "      border-bottom-color: var(--fill-color);\n",
              "    }\n",
              "    90% {\n",
              "      border-color: transparent;\n",
              "      border-bottom-color: var(--fill-color);\n",
              "    }\n",
              "  }\n",
              "</style>\n",
              "\n",
              "  <script>\n",
              "    async function quickchart(key) {\n",
              "      const quickchartButtonEl =\n",
              "        document.querySelector('#' + key + ' button');\n",
              "      quickchartButtonEl.disabled = true;  // To prevent multiple clicks.\n",
              "      quickchartButtonEl.classList.add('colab-df-spinner');\n",
              "      try {\n",
              "        const charts = await google.colab.kernel.invokeFunction(\n",
              "            'suggestCharts', [key], {});\n",
              "      } catch (error) {\n",
              "        console.error('Error during call to suggestCharts:', error);\n",
              "      }\n",
              "      quickchartButtonEl.classList.remove('colab-df-spinner');\n",
              "      quickchartButtonEl.classList.add('colab-df-quickchart-complete');\n",
              "    }\n",
              "    (() => {\n",
              "      let quickchartButtonEl =\n",
              "        document.querySelector('#df-beab2e07-cf2a-47cc-a1ee-5c83dac2b76b button');\n",
              "      quickchartButtonEl.style.display =\n",
              "        google.colab.kernel.accessAllowed ? 'block' : 'none';\n",
              "    })();\n",
              "  </script>\n",
              "</div>\n",
              "\n",
              "  <div id=\"id_219cf372-6aa7-4690-8da0-8b1ddc526758\">\n",
              "    <style>\n",
              "      .colab-df-generate {\n",
              "        background-color: #E8F0FE;\n",
              "        border: none;\n",
              "        border-radius: 50%;\n",
              "        cursor: pointer;\n",
              "        display: none;\n",
              "        fill: #1967D2;\n",
              "        height: 32px;\n",
              "        padding: 0 0 0 0;\n",
              "        width: 32px;\n",
              "      }\n",
              "\n",
              "      .colab-df-generate:hover {\n",
              "        background-color: #E2EBFA;\n",
              "        box-shadow: 0px 1px 2px rgba(60, 64, 67, 0.3), 0px 1px 3px 1px rgba(60, 64, 67, 0.15);\n",
              "        fill: #174EA6;\n",
              "      }\n",
              "\n",
              "      [theme=dark] .colab-df-generate {\n",
              "        background-color: #3B4455;\n",
              "        fill: #D2E3FC;\n",
              "      }\n",
              "\n",
              "      [theme=dark] .colab-df-generate:hover {\n",
              "        background-color: #434B5C;\n",
              "        box-shadow: 0px 1px 3px 1px rgba(0, 0, 0, 0.15);\n",
              "        filter: drop-shadow(0px 1px 2px rgba(0, 0, 0, 0.3));\n",
              "        fill: #FFFFFF;\n",
              "      }\n",
              "    </style>\n",
              "    <button class=\"colab-df-generate\" onclick=\"generateWithVariable('df')\"\n",
              "            title=\"Generate code using this dataframe.\"\n",
              "            style=\"display:none;\">\n",
              "\n",
              "  <svg xmlns=\"http://www.w3.org/2000/svg\" height=\"24px\"viewBox=\"0 0 24 24\"\n",
              "       width=\"24px\">\n",
              "    <path d=\"M7,19H8.4L18.45,9,17,7.55,7,17.6ZM5,21V16.75L18.45,3.32a2,2,0,0,1,2.83,0l1.4,1.43a1.91,1.91,0,0,1,.58,1.4,1.91,1.91,0,0,1-.58,1.4L9.25,21ZM18.45,9,17,7.55Zm-12,3A5.31,5.31,0,0,0,4.9,8.1,5.31,5.31,0,0,0,1,6.5,5.31,5.31,0,0,0,4.9,4.9,5.31,5.31,0,0,0,6.5,1,5.31,5.31,0,0,0,8.1,4.9,5.31,5.31,0,0,0,12,6.5,5.46,5.46,0,0,0,6.5,12Z\"/>\n",
              "  </svg>\n",
              "    </button>\n",
              "    <script>\n",
              "      (() => {\n",
              "      const buttonEl =\n",
              "        document.querySelector('#id_219cf372-6aa7-4690-8da0-8b1ddc526758 button.colab-df-generate');\n",
              "      buttonEl.style.display =\n",
              "        google.colab.kernel.accessAllowed ? 'block' : 'none';\n",
              "\n",
              "      buttonEl.onclick = () => {\n",
              "        google.colab.notebook.generateWithVariable('df');\n",
              "      }\n",
              "      })();\n",
              "    </script>\n",
              "  </div>\n",
              "\n",
              "    </div>\n",
              "  </div>\n"
            ],
            "application/vnd.google.colaboratory.intrinsic+json": {
              "type": "dataframe",
              "variable_name": "df",
              "summary": "{\n  \"name\": \"df\",\n  \"rows\": 7553,\n  \"fields\": [\n    {\n      \"column\": \"Images\",\n      \"properties\": {\n        \"dtype\": \"string\",\n        \"num_unique_values\": 7553,\n        \"samples\": [\n          \"aux_data/images/with_mask/with_mask_3153.jpg\",\n          \"aux_data/images/with_mask/with_mask_3665.jpg\",\n          \"aux_data/images/with_mask/with_mask_2806.jpg\"\n        ],\n        \"semantic_type\": \"\",\n        \"description\": \"\"\n      }\n    },\n    {\n      \"column\": \"Mask\",\n      \"properties\": {\n        \"dtype\": \"number\",\n        \"std\": 0,\n        \"min\": 0,\n        \"max\": 1,\n        \"num_unique_values\": 2,\n        \"samples\": [\n          0,\n          1\n        ],\n        \"semantic_type\": \"\",\n        \"description\": \"\"\n      }\n    }\n  ]\n}"
            }
          },
          "metadata": {},
          "execution_count": 64
        }
      ],
      "source": [
        "df"
      ]
    },
    {
      "cell_type": "markdown",
      "source": [],
      "metadata": {
        "id": "baQf6v8UbTUo"
      }
    },
    {
      "cell_type": "code",
      "execution_count": 65,
      "metadata": {
        "id": "vjBlYYXq2u3f",
        "colab": {
          "base_uri": "https://localhost:8080/"
        },
        "outputId": "d2441842-a0d1-4fb1-c03a-010cc1097644"
      },
      "outputs": [
        {
          "output_type": "execute_result",
          "data": {
            "text/plain": [
              "(array([1, 0]),\n",
              " Mask\n",
              " 0    3828\n",
              " 1    3725\n",
              " Name: count, dtype: int64)"
            ]
          },
          "metadata": {},
          "execution_count": 65
        }
      ],
      "source": [
        "df[\"Mask\"].unique(), df[\"Mask\"].value_counts()"
      ]
    },
    {
      "cell_type": "markdown",
      "source": [
        "As 1 represents with mask, and 0 without mask."
      ],
      "metadata": {
        "id": "X9bMxlp3MD5g"
      }
    },
    {
      "cell_type": "markdown",
      "metadata": {
        "id": "gWAqobcG3Q_g"
      },
      "source": [
        "### Creating a custom PyTorch dataset with the dataframe used before:"
      ]
    },
    {
      "cell_type": "code",
      "execution_count": 66,
      "metadata": {
        "id": "XoUGu2EN3Qf8"
      },
      "outputs": [],
      "source": [
        "from torch.utils.data import DataLoader, Dataset\n",
        "import torchvision.transforms as transforms\n",
        "from torchvision.transforms import ToTensor\n",
        "from PIL import Image"
      ]
    },
    {
      "cell_type": "code",
      "execution_count": 67,
      "metadata": {
        "id": "iRYuTtm85GxR"
      },
      "outputs": [],
      "source": [
        "# a simple subclass of Dataset\n",
        "\n",
        "class ImageData(Dataset):\n",
        "  def __init__(self, transformation):\n",
        "    self.dataframe = df\n",
        "    self.transform = transformation\n",
        "\n",
        "  def __len__(self):\n",
        "    return len(self.dataframe)\n",
        "\n",
        "  def __getitem__(self, index):\n",
        "    image_path = self.dataframe.iloc[index][\"Images\"]\n",
        "\n",
        "    image = Image.open(image_path)\n",
        "    label = self.dataframe.iloc[index][\"Mask\"]\n",
        "\n",
        "    if self.transform:\n",
        "      image = self.transform(image)\n",
        "\n",
        "    return image, label"
      ]
    },
    {
      "cell_type": "code",
      "execution_count": 68,
      "metadata": {
        "id": "8OlhE-db5eLN"
      },
      "outputs": [],
      "source": [
        "# defining transform\n",
        "transformation = transforms.Compose([transforms.Grayscale(1), transforms.Resize(size = (128, 128)), transforms.ToTensor()])\n",
        "\n",
        "image_dataset = ImageData(transformation)"
      ]
    },
    {
      "cell_type": "code",
      "source": [
        "image_dataset[0]"
      ],
      "metadata": {
        "id": "VRlOQ4F2X8eQ",
        "colab": {
          "base_uri": "https://localhost:8080/"
        },
        "outputId": "e0a0e92e-9ae9-47d6-e5a4-1647e3f49357"
      },
      "execution_count": 69,
      "outputs": [
        {
          "output_type": "execute_result",
          "data": {
            "text/plain": [
              "(tensor([[[0.4549, 0.4863, 0.5098,  ..., 0.6824, 0.6392, 0.6392],\n",
              "          [0.4549, 0.4824, 0.5059,  ..., 0.6745, 0.6392, 0.6392],\n",
              "          [0.4510, 0.4745, 0.5059,  ..., 0.6706, 0.6392, 0.6431],\n",
              "          ...,\n",
              "          [0.7608, 0.7569, 0.7529,  ..., 0.3765, 0.2000, 0.2314],\n",
              "          [0.7686, 0.7725, 0.7725,  ..., 0.4157, 0.2118, 0.2196],\n",
              "          [0.7725, 0.7765, 0.7765,  ..., 0.4078, 0.2275, 0.2118]]]),\n",
              " 1)"
            ]
          },
          "metadata": {},
          "execution_count": 69
        }
      ]
    },
    {
      "cell_type": "code",
      "execution_count": 70,
      "metadata": {
        "id": "v22fKo4c59MX"
      },
      "outputs": [],
      "source": [
        "# creating a dictionary to pass labels into indexes:\n",
        "index_label_dict = {\n",
        "    0 : \"without mask\",\n",
        "    1 : \"with mask\"\n",
        "}"
      ]
    },
    {
      "cell_type": "code",
      "execution_count": 71,
      "metadata": {
        "id": "3l49Azbk8rhN",
        "colab": {
          "base_uri": "https://localhost:8080/",
          "height": 37
        },
        "outputId": "cb39294e-b0ad-4558-e273-2f157525f6f1"
      },
      "outputs": [
        {
          "output_type": "execute_result",
          "data": {
            "text/plain": [
              "'with mask'"
            ],
            "application/vnd.google.colaboratory.intrinsic+json": {
              "type": "string"
            }
          },
          "metadata": {},
          "execution_count": 71
        }
      ],
      "source": [
        "index_label_dict[image_dataset[0][1]]"
      ]
    },
    {
      "cell_type": "markdown",
      "metadata": {
        "id": "Hsy2Gjjh9m4_"
      },
      "source": [
        "### Train test separation:"
      ]
    },
    {
      "cell_type": "code",
      "execution_count": 72,
      "metadata": {
        "id": "Vnv9YNol_Lj_",
        "colab": {
          "base_uri": "https://localhost:8080/"
        },
        "outputId": "98076995-c36e-4554-ead4-294bc974c383"
      },
      "outputs": [
        {
          "output_type": "stream",
          "name": "stderr",
          "text": [
            "/usr/local/lib/python3.10/dist-packages/PIL/Image.py:1054: UserWarning: Palette images with Transparency expressed in bytes should be converted to RGBA images\n",
            "  warnings.warn(\n"
          ]
        }
      ],
      "source": [
        "x = []\n",
        "y = []\n",
        "\n",
        "for image, label in image_dataset:\n",
        "  x.append(image)\n",
        "  y.append(label)"
      ]
    },
    {
      "cell_type": "code",
      "execution_count": 73,
      "metadata": {
        "id": "Yp2pYrjH9pJB"
      },
      "outputs": [],
      "source": [
        "from sklearn.model_selection import train_test_split\n",
        "\n",
        "x_train, x_test, y_train, y_test = train_test_split(x, y, test_size = 0.2, shuffle = True, random_state = 42)"
      ]
    },
    {
      "cell_type": "code",
      "execution_count": 74,
      "metadata": {
        "id": "fwO4X0TS_aKZ",
        "colab": {
          "base_uri": "https://localhost:8080/"
        },
        "outputId": "877af49e-d0cf-4e70-f313-977616c3119a"
      },
      "outputs": [
        {
          "output_type": "execute_result",
          "data": {
            "text/plain": [
              "(6042, 6042, 1511, 1511)"
            ]
          },
          "metadata": {},
          "execution_count": 74
        }
      ],
      "source": [
        "len(x_train), len(y_train), len(x_test), len(y_test)"
      ]
    },
    {
      "cell_type": "code",
      "execution_count": 75,
      "metadata": {
        "id": "_vGzFqseAPib"
      },
      "outputs": [],
      "source": [
        "image_train_dataset = list(zip(x_train, y_train))\n",
        "image_test_dataset = list(zip(x_test, y_test))"
      ]
    },
    {
      "cell_type": "code",
      "execution_count": 76,
      "metadata": {
        "id": "5dvDDoblBWNL",
        "colab": {
          "base_uri": "https://localhost:8080/"
        },
        "outputId": "1e0c0590-02f6-4447-d38a-734310b4e412"
      },
      "outputs": [
        {
          "output_type": "execute_result",
          "data": {
            "text/plain": [
              "((tensor([[[0.8745, 0.8745, 0.8745,  ..., 0.8588, 0.8588, 0.8588],\n",
              "           [0.8745, 0.8745, 0.8745,  ..., 0.8588, 0.8588, 0.8588],\n",
              "           [0.8745, 0.8745, 0.8745,  ..., 0.8588, 0.8588, 0.8588],\n",
              "           ...,\n",
              "           [0.8667, 0.8824, 0.8824,  ..., 0.3137, 0.7765, 0.8549],\n",
              "           [0.8667, 0.8824, 0.8745,  ..., 0.2157, 0.4824, 0.8353],\n",
              "           [0.8745, 0.8784, 0.8353,  ..., 0.2000, 0.2902, 0.7608]]]),\n",
              "  1),\n",
              " (tensor([[[1., 1., 1.,  ..., 1., 1., 1.],\n",
              "           [1., 1., 1.,  ..., 1., 1., 1.],\n",
              "           [1., 1., 1.,  ..., 1., 1., 1.],\n",
              "           ...,\n",
              "           [1., 1., 1.,  ..., 1., 1., 1.],\n",
              "           [1., 1., 1.,  ..., 1., 1., 1.],\n",
              "           [1., 1., 1.,  ..., 1., 1., 1.]]]),\n",
              "  1))"
            ]
          },
          "metadata": {},
          "execution_count": 76
        }
      ],
      "source": [
        "image_train_dataset[0], image_test_dataset[0]"
      ]
    },
    {
      "cell_type": "code",
      "execution_count": 77,
      "metadata": {
        "id": "9Ftkq9_wBY6m"
      },
      "outputs": [],
      "source": [
        "# creating dataloaders for train and test\n",
        "\n",
        "image_train_dataloader = DataLoader(image_train_dataset, batch_size = 32, shuffle = True)\n",
        "image_test_dataloader = DataLoader(image_test_dataset, batch_size = 32, shuffle = False)"
      ]
    },
    {
      "cell_type": "code",
      "execution_count": 78,
      "metadata": {
        "id": "imJEL-PaTu1s",
        "colab": {
          "base_uri": "https://localhost:8080/"
        },
        "outputId": "3a030bbe-771a-4beb-dc17-4f74c7735216"
      },
      "outputs": [
        {
          "output_type": "execute_result",
          "data": {
            "text/plain": [
              "[tensor([[[[0.2471, 0.4510, 0.6118,  ..., 0.3765, 0.3412, 0.3216],\n",
              "           [0.3412, 0.5020, 0.6275,  ..., 0.3961, 0.3647, 0.3412],\n",
              "           [0.4549, 0.5647, 0.6471,  ..., 0.4235, 0.3922, 0.3647],\n",
              "           ...,\n",
              "           [1.0000, 1.0000, 1.0000,  ..., 1.0000, 1.0000, 1.0000],\n",
              "           [1.0000, 1.0000, 1.0000,  ..., 1.0000, 1.0000, 1.0000],\n",
              "           [1.0000, 1.0000, 1.0000,  ..., 1.0000, 1.0000, 1.0000]]],\n",
              " \n",
              " \n",
              "         [[[0.5647, 0.5569, 0.5608,  ..., 0.8157, 0.8157, 0.8157],\n",
              "           [0.5686, 0.5608, 0.5608,  ..., 0.8078, 0.8078, 0.8118],\n",
              "           [0.5686, 0.5608, 0.5608,  ..., 0.7922, 0.7961, 0.8039],\n",
              "           ...,\n",
              "           [0.9882, 0.9922, 0.9922,  ..., 0.1333, 0.1059, 0.1373],\n",
              "           [0.9961, 0.9961, 0.9961,  ..., 0.1294, 0.1020, 0.1137],\n",
              "           [1.0000, 0.9961, 0.9961,  ..., 0.1255, 0.1255, 0.1333]]],\n",
              " \n",
              " \n",
              "         [[[0.5765, 0.5725, 0.5686,  ..., 0.6000, 0.5961, 0.5961],\n",
              "           [0.5765, 0.5725, 0.5725,  ..., 0.6000, 0.5961, 0.5961],\n",
              "           [0.5804, 0.5765, 0.5725,  ..., 0.6000, 0.5961, 0.5961],\n",
              "           ...,\n",
              "           [0.4863, 0.4941, 0.4980,  ..., 0.5765, 0.6078, 0.6392],\n",
              "           [0.4784, 0.4863, 0.4941,  ..., 0.3882, 0.4627, 0.5098],\n",
              "           [0.4745, 0.4824, 0.4902,  ..., 0.1529, 0.1765, 0.2118]]],\n",
              " \n",
              " \n",
              "         ...,\n",
              " \n",
              " \n",
              "         [[[0.1216, 0.1373, 0.1373,  ..., 0.2824, 0.2980, 0.2980],\n",
              "           [0.1451, 0.1490, 0.1490,  ..., 0.2980, 0.3255, 0.3255],\n",
              "           [0.1569, 0.1647, 0.1647,  ..., 0.3176, 0.3412, 0.3412],\n",
              "           ...,\n",
              "           [0.3020, 0.3255, 0.3373,  ..., 0.0784, 0.0902, 0.1098],\n",
              "           [0.3098, 0.3294, 0.3333,  ..., 0.0824, 0.0902, 0.1098],\n",
              "           [0.3176, 0.3333, 0.3333,  ..., 0.0863, 0.0902, 0.1098]]],\n",
              " \n",
              " \n",
              "         [[[0.1373, 0.1412, 0.1451,  ..., 0.2078, 0.2000, 0.1882],\n",
              "           [0.1255, 0.1294, 0.1333,  ..., 0.2000, 0.2000, 0.1961],\n",
              "           [0.1098, 0.1137, 0.1176,  ..., 0.1922, 0.2000, 0.2118],\n",
              "           ...,\n",
              "           [0.6157, 0.6157, 0.6157,  ..., 0.1451, 0.1255, 0.1059],\n",
              "           [0.5765, 0.6078, 0.6196,  ..., 0.1137, 0.0980, 0.0902],\n",
              "           [0.5059, 0.5686, 0.6078,  ..., 0.0980, 0.0824, 0.0824]]],\n",
              " \n",
              " \n",
              "         [[[0.3804, 0.3804, 0.3843,  ..., 0.9569, 0.9608, 0.9647],\n",
              "           [0.4039, 0.4078, 0.4039,  ..., 0.9608, 0.9608, 0.9608],\n",
              "           [0.4275, 0.4275, 0.4157,  ..., 0.9647, 0.9569, 0.9569],\n",
              "           ...,\n",
              "           [0.1490, 0.1373, 0.1333,  ..., 0.7020, 0.6980, 0.6824],\n",
              "           [0.1529, 0.1294, 0.1412,  ..., 0.6902, 0.6902, 0.6863],\n",
              "           [0.1647, 0.1569, 0.1647,  ..., 0.6745, 0.6863, 0.6980]]]]),\n",
              " tensor([1, 1, 1, 0, 0, 1, 0, 1, 1, 0, 0, 1, 0, 0, 0, 0, 0, 1, 0, 0, 0, 0, 0, 0,\n",
              "         0, 0, 0, 0, 1, 0, 0, 1])]"
            ]
          },
          "metadata": {},
          "execution_count": 78
        }
      ],
      "source": [
        "next(iter(image_train_dataloader))"
      ]
    },
    {
      "cell_type": "code",
      "execution_count": 79,
      "metadata": {
        "id": "-rjLm0p8Tv9g",
        "colab": {
          "base_uri": "https://localhost:8080/"
        },
        "outputId": "67a57610-a443-4616-b44b-15ea131187a6"
      },
      "outputs": [
        {
          "output_type": "execute_result",
          "data": {
            "text/plain": [
              "(torch.Size([32, 1, 128, 128]), torch.Size([32]))"
            ]
          },
          "metadata": {},
          "execution_count": 79
        }
      ],
      "source": [
        "image, label = next(iter(image_train_dataloader))\n",
        "image.shape, label.shape"
      ]
    },
    {
      "cell_type": "markdown",
      "metadata": {
        "id": "_G5eR5VLU6J6"
      },
      "source": [
        "### Visualizing images:"
      ]
    },
    {
      "cell_type": "code",
      "execution_count": 80,
      "metadata": {
        "colab": {
          "base_uri": "https://localhost:8080/",
          "height": 675
        },
        "id": "khV93Od7U5xs",
        "outputId": "dcfe56c8-7efa-46f7-f8f5-c81b00d15d80"
      },
      "outputs": [
        {
          "output_type": "display_data",
          "data": {
            "text/plain": [
              "<Figure size 800x800 with 9 Axes>"
            ],
            "image/png": "[encoded data removed]"
          },
          "metadata": {}
        }
      ],
      "source": [
        "import random\n",
        "import matplotlib.pyplot as plt\n",
        "\n",
        "torch.manual_seed(42)\n",
        "\n",
        "plt.figure(figsize = (8, 8))\n",
        "for i, (image, label) in enumerate(random.sample(image_train_dataset, k = 9)):\n",
        "\n",
        "  plt.subplot(3, 3, i+1)\n",
        "\n",
        "  plt.title(f\"{index_label_dict[label]}\")\n",
        "  plt.axis(False)\n",
        "  plt.imshow(image[0, :, :].squeeze(), cmap = \"gray\")\n"
      ]
    },
    {
      "cell_type": "markdown",
      "metadata": {
        "id": "qwYTUFk0axGM"
      },
      "source": [
        "## Creating the model"
      ]
    },
    {
      "cell_type": "markdown",
      "source": [
        "#### This model is inspired on the model proposed by the article: Kim,J.H.,Kim,B.G.,Roy,P.P.&Jeong,D.M.Efficient facial expression recognition algorithm based on hierarchical deep neural network structure. IEEE Access 7, 41273–41285 (2019)."
      ],
      "metadata": {
        "id": "Ay6nVGyzw4Lj"
      }
    },
    {
      "cell_type": "code",
      "execution_count": 81,
      "metadata": {
        "id": "LzrFBFfaT8QD"
      },
      "outputs": [],
      "source": [
        "from torch import nn\n",
        "\n",
        "class CNNImages(nn.Module):\n",
        "  def __init__(self, input_shape : int, hidden_units : int, output_shape : int):\n",
        "    super().__init__()\n",
        "    self.block_one = nn.Sequential(\n",
        "        nn.Conv2d(\n",
        "            in_channels = input_shape,\n",
        "            out_channels = hidden_units,\n",
        "            kernel_size = 5,\n",
        "            stride = 1,\n",
        "            padding = 2\n",
        "        ),\n",
        "        nn.ReLU(),\n",
        "        nn.MaxPool2d(kernel_size = 2)\n",
        "    )\n",
        "\n",
        "    self.block_two = nn.Sequential(\n",
        "        nn.Conv2d(\n",
        "            in_channels = hidden_units,\n",
        "            out_channels = 2 * hidden_units,\n",
        "            kernel_size = 5,\n",
        "            stride = 1,\n",
        "            padding = 2\n",
        "        ),\n",
        "        nn.ReLU(),\n",
        "        nn.MaxPool2d(kernel_size = 2)\n",
        "    )\n",
        "\n",
        "    self.block_three = nn.Sequential(\n",
        "        nn.Conv2d(\n",
        "            in_channels = 2 * hidden_units,\n",
        "            out_channels = 4 * hidden_units,\n",
        "            kernel_size = 5,\n",
        "            stride = 1,\n",
        "            padding = 2\n",
        "        ),\n",
        "        nn.ReLU(),\n",
        "        nn.MaxPool2d(kernel_size = 2)\n",
        "    )\n",
        "\n",
        "    self.fc_1 = nn.Sequential(\n",
        "        nn.Flatten(),\n",
        "        nn.Linear(in_features = hidden_units * 1024, out_features = 1024),\n",
        "        nn.ReLU()\n",
        "    )\n",
        "\n",
        "    self.classifier = nn.Sequential(\n",
        "        nn.Linear(in_features = 1024, out_features = output_shape)\n",
        "    )\n",
        "\n",
        "  def forward(self, x : torch.Tensor) -> torch.Tensor:\n",
        "    x = self.block_one(x)\n",
        "    x = self.block_two(x)\n",
        "    x = self.block_three(x)\n",
        "    x = self.fc_1(x)\n",
        "    x = self.classifier(x)\n",
        "    return x\n"
      ]
    },
    {
      "cell_type": "code",
      "execution_count": 82,
      "metadata": {
        "id": "EBJKKqwRhlZS"
      },
      "outputs": [],
      "source": [
        "model_cnn = CNNImages(1, 64, 2)"
      ]
    },
    {
      "cell_type": "code",
      "execution_count": 83,
      "metadata": {
        "id": "7_bIjgb7zZx5"
      },
      "outputs": [],
      "source": [
        "image, label = next(iter(image_train_dataloader))"
      ]
    },
    {
      "cell_type": "code",
      "source": [
        "image.shape"
      ],
      "metadata": {
        "colab": {
          "base_uri": "https://localhost:8080/"
        },
        "id": "ncTmLiBj0Xv9",
        "outputId": "b1ca3939-341b-4119-ca79-f17938ce756a"
      },
      "execution_count": 84,
      "outputs": [
        {
          "output_type": "execute_result",
          "data": {
            "text/plain": [
              "torch.Size([32, 1, 128, 128])"
            ]
          },
          "metadata": {},
          "execution_count": 84
        }
      ]
    },
    {
      "cell_type": "code",
      "execution_count": 85,
      "metadata": {
        "colab": {
          "base_uri": "https://localhost:8080/"
        },
        "id": "F6klWysmirQA",
        "outputId": "be2579d1-3073-43aa-a5b8-baf6374aa5d5"
      },
      "outputs": [
        {
          "output_type": "execute_result",
          "data": {
            "text/plain": [
              "tensor([[-0.0023,  0.0161],\n",
              "        [ 0.0004,  0.0158],\n",
              "        [-0.0031,  0.0110],\n",
              "        [-0.0052,  0.0224],\n",
              "        [ 0.0009,  0.0244],\n",
              "        [ 0.0050,  0.0181],\n",
              "        [-0.0065,  0.0203],\n",
              "        [ 0.0023,  0.0206],\n",
              "        [-0.0039,  0.0123],\n",
              "        [ 0.0021,  0.0183],\n",
              "        [ 0.0025,  0.0209],\n",
              "        [-0.0034,  0.0154],\n",
              "        [ 0.0020,  0.0133],\n",
              "        [-0.0020,  0.0158],\n",
              "        [-0.0043,  0.0072],\n",
              "        [ 0.0006,  0.0198],\n",
              "        [ 0.0043,  0.0196],\n",
              "        [ 0.0002,  0.0162],\n",
              "        [-0.0040,  0.0087],\n",
              "        [-0.0027,  0.0181],\n",
              "        [ 0.0064,  0.0143],\n",
              "        [-0.0067,  0.0099],\n",
              "        [-0.0043,  0.0104],\n",
              "        [ 0.0061,  0.0281],\n",
              "        [ 0.0011,  0.0153],\n",
              "        [ 0.0043,  0.0162],\n",
              "        [-0.0009,  0.0179],\n",
              "        [ 0.0012,  0.0163],\n",
              "        [-0.0085,  0.0165],\n",
              "        [ 0.0011,  0.0170],\n",
              "        [-0.0012,  0.0150],\n",
              "        [ 0.0016,  0.0127]], grad_fn=<AddmmBackward0>)"
            ]
          },
          "metadata": {},
          "execution_count": 85
        }
      ],
      "source": [
        "model_cnn(image)"
      ]
    },
    {
      "cell_type": "markdown",
      "source": [
        "## Testing and Training the model"
      ],
      "metadata": {
        "id": "rQzfYtTt04dy"
      }
    },
    {
      "cell_type": "markdown",
      "source": [
        "### Defining optimizer, loss and metrics of evaluation"
      ],
      "metadata": {
        "id": "bZKvdV6a1Aqe"
      }
    },
    {
      "cell_type": "code",
      "source": [
        "!pip install torchmetrics"
      ],
      "metadata": {
        "colab": {
          "base_uri": "https://localhost:8080/"
        },
        "id": "n35aYWvx1KAX",
        "outputId": "2ec81ab2-8aad-469c-da16-9e41e4ee2048"
      },
      "execution_count": 86,
      "outputs": [
        {
          "output_type": "stream",
          "name": "stdout",
          "text": [
            "Requirement already satisfied: torchmetrics in /usr/local/lib/python3.10/dist-packages (1.6.0)\n",
            "Requirement already satisfied: numpy>1.20.0 in /usr/local/lib/python3.10/dist-packages (from torchmetrics) (1.26.4)\n",
            "Requirement already satisfied: packaging>17.1 in /usr/local/lib/python3.10/dist-packages (from torchmetrics) (24.2)\n",
            "Requirement already satisfied: torch>=2.0.0 in /usr/local/lib/python3.10/dist-packages (from torchmetrics) (2.5.1+cu121)\n",
            "Requirement already satisfied: lightning-utilities>=0.8.0 in /usr/local/lib/python3.10/dist-packages (from torchmetrics) (0.11.9)\n",
            "Requirement already satisfied: setuptools in /usr/local/lib/python3.10/dist-packages (from lightning-utilities>=0.8.0->torchmetrics) (75.1.0)\n",
            "Requirement already satisfied: typing-extensions in /usr/local/lib/python3.10/dist-packages (from lightning-utilities>=0.8.0->torchmetrics) (4.12.2)\n",
            "Requirement already satisfied: filelock in /usr/local/lib/python3.10/dist-packages (from torch>=2.0.0->torchmetrics) (3.16.1)\n",
            "Requirement already satisfied: networkx in /usr/local/lib/python3.10/dist-packages (from torch>=2.0.0->torchmetrics) (3.4.2)\n",
            "Requirement already satisfied: jinja2 in /usr/local/lib/python3.10/dist-packages (from torch>=2.0.0->torchmetrics) (3.1.4)\n",
            "Requirement already satisfied: fsspec in /usr/local/lib/python3.10/dist-packages (from torch>=2.0.0->torchmetrics) (2024.10.0)\n",
            "Requirement already satisfied: sympy==1.13.1 in /usr/local/lib/python3.10/dist-packages (from torch>=2.0.0->torchmetrics) (1.13.1)\n",
            "Requirement already satisfied: mpmath<1.4,>=1.1.0 in /usr/local/lib/python3.10/dist-packages (from sympy==1.13.1->torch>=2.0.0->torchmetrics) (1.3.0)\n",
            "Requirement already satisfied: MarkupSafe>=2.0 in /usr/local/lib/python3.10/dist-packages (from jinja2->torch>=2.0.0->torchmetrics) (3.0.2)\n"
          ]
        }
      ]
    },
    {
      "cell_type": "code",
      "source": [
        "from torchmetrics import Accuracy\n",
        "\n",
        "loss_fn = nn.CrossEntropyLoss()\n",
        "optimizer = torch.optim.SGD(params = model_cnn.parameters(), lr = 0.1, weight_decay=1e-5)\n",
        "accuracy_fn = Accuracy(task = \"multiclass\", num_classes = 2)"
      ],
      "metadata": {
        "id": "cvX_Eh1Q0_-9"
      },
      "execution_count": 87,
      "outputs": []
    },
    {
      "cell_type": "markdown",
      "source": [
        "### Train and test loop"
      ],
      "metadata": {
        "id": "PqGGoBh21k82"
      }
    },
    {
      "cell_type": "code",
      "execution_count": 88,
      "metadata": {
        "id": "nYYIVY8visI_"
      },
      "outputs": [],
      "source": [
        "import torchmetrics\n",
        "from tqdm.auto import trange\n",
        "\n",
        "def train_test_loop(model : nn.Module, train_dataloader : torch.utils.data, test_dataloader : torch.utils.data, loss_fn : nn.Module, optimizer : torch.optim.Optimizer, accuracy_fn : torchmetrics, device : torch.device = device):\n",
        "  model = model.to(device)\n",
        "  accuracy_fn = accuracy_fn.to(device)\n",
        "\n",
        "  for epoch in trange(20):\n",
        "    # train\n",
        "\n",
        "    loss_train, accuracy_train = 0, 0\n",
        "    model.train()\n",
        "    for image, label in train_dataloader:\n",
        "      image, label = image.to(device), label.to(device)\n",
        "\n",
        "      y_pred = model(image)\n",
        "      loss = loss_fn(y_pred, label)\n",
        "      loss_train += loss\n",
        "      accuracy_train += accuracy_fn(y_pred, label)\n",
        "\n",
        "      optimizer.zero_grad()\n",
        "      loss.backward()\n",
        "      optimizer.step()\n",
        "\n",
        "    loss_train /= len(train_dataloader)\n",
        "    accuracy_train /= len(train_dataloader)\n",
        "\n",
        "    # test\n",
        "\n",
        "    loss_test, accuracy_test = 0, 0\n",
        "    model.eval()\n",
        "    with torch.inference_mode():\n",
        "      for image, label in test_dataloader:\n",
        "        image, label = image.to(device), label.to(device)\n",
        "\n",
        "        y_pred = model(image)\n",
        "        loss_test += loss_fn(y_pred, label)\n",
        "        accuracy_test += accuracy_fn(y_pred, label)\n",
        "\n",
        "      loss_test /= len(test_dataloader)\n",
        "      accuracy_test /= len(test_dataloader)\n",
        "\n",
        "    print(f\"Train loss: {loss_train} | Train accuracy: {accuracy_train} | Test loss: {loss_test} | Test accuracy: {accuracy_test}\")\n"
      ]
    },
    {
      "cell_type": "code",
      "execution_count": 89,
      "metadata": {
        "id": "fak1D8Wni_Kb",
        "colab": {
          "base_uri": "https://localhost:8080/",
          "height": 409,
          "referenced_widgets": [
            "4f5ee3b247024ceb903329d9634599ce",
            "5190bcccd0624ecd80e6bc885aa7b8b6",
            "68a04f51aee1479c9a14aa10796fdcdb",
            "d8a9018cf9bd4671b9637fdc4a539f77",
            "575e88f0e9244876aedf965bc6ff1afb",
            "4781b9ede934401d8edf396926f3c6e1",
            "bb2483e109ab45ba887ed36de22464a1",
            "86d8dee4cafe458981e811c751ed69a5",
            "04423ac47fcc4cff803a2b78546a160a",
            "5b78334d633d4a3bb24af500dd1ccd23",
            "15d88a9c8aa543fabe39065f6b435616"
          ]
        },
        "outputId": "ffa6d308-c291-498a-ea70-e7dd2a09abc4"
      },
      "outputs": [
        {
          "output_type": "display_data",
          "data": {
            "text/plain": [
              "  0%|          | 0/20 [00:00<?, ?it/s]"
            ],
            "application/vnd.jupyter.widget-view+json": {
              "version_major": 2,
              "version_minor": 0,
              "model_id": "4f5ee3b247024ceb903329d9634599ce"
            }
          },
          "metadata": {}
        },
        {
          "output_type": "stream",
          "name": "stdout",
          "text": [
            "Train loss: 0.6577173471450806 | Train accuracy: 0.594831109046936 | Test loss: 0.6655269861221313 | Test accuracy: 0.5854724645614624\n",
            "Train loss: 0.585557758808136 | Train accuracy: 0.6829720735549927 | Test loss: 0.547390341758728 | Test accuracy: 0.7195870876312256\n",
            "Train loss: 0.518805742263794 | Train accuracy: 0.7409569025039673 | Test loss: 0.4239961504936218 | Test accuracy: 0.8117560148239136\n",
            "Train loss: 0.399554967880249 | Train accuracy: 0.810528576374054 | Test loss: 0.35306617617607117 | Test accuracy: 0.8417038917541504\n",
            "Train loss: 0.2919975519180298 | Train accuracy: 0.8737662434577942 | Test loss: 0.3221536874771118 | Test accuracy: 0.8703497648239136\n",
            "Train loss: 0.22934497892856598 | Train accuracy: 0.9101800322532654 | Test loss: 0.27221739292144775 | Test accuracy: 0.8827195167541504\n",
            "Train loss: 0.21501125395298004 | Train accuracy: 0.9133215546607971 | Test loss: 0.28565701842308044 | Test accuracy: 0.9002976417541504\n",
            "Train loss: 0.1462124139070511 | Train accuracy: 0.9439229369163513 | Test loss: 0.5816764831542969 | Test accuracy: 0.7951079607009888\n",
            "Train loss: 0.10078489780426025 | Train accuracy: 0.9627593755722046 | Test loss: 0.3045940697193146 | Test accuracy: 0.8922061324119568\n",
            "Train loss: 0.07443353533744812 | Train accuracy: 0.9740409851074219 | Test loss: 0.3288049101829529 | Test accuracy: 0.8944382667541504\n",
            "Train loss: 0.03414297103881836 | Train accuracy: 0.9899140000343323 | Test loss: 0.43344712257385254 | Test accuracy: 0.8957403898239136\n",
            "Train loss: 0.04272373020648956 | Train accuracy: 0.9885912537574768 | Test loss: 0.4007136821746826 | Test accuracy: 0.9019717574119568\n",
            "Train loss: 0.029668567702174187 | Train accuracy: 0.9917327761650085 | Test loss: 0.5345761775970459 | Test accuracy: 0.8976935148239136\n",
            "Train loss: 0.3561226427555084 | Train accuracy: 0.8662495017051697 | Test loss: 0.3875606954097748 | Test accuracy: 0.8335193991661072\n",
            "Train loss: 0.18282394111156464 | Train accuracy: 0.924361526966095 | Test loss: 0.3200530409812927 | Test accuracy: 0.8733259439468384\n",
            "Train loss: 0.0935707688331604 | Train accuracy: 0.9672618508338928 | Test loss: 0.3007316291332245 | Test accuracy: 0.8824405074119568\n",
            "Train loss: 0.02551981620490551 | Train accuracy: 0.9932717084884644 | Test loss: 0.7717918753623962 | Test accuracy: 0.8296131491661072\n",
            "Train loss: 0.026736630126833916 | Train accuracy: 0.9948742985725403 | Test loss: 0.5805303454399109 | Test accuracy: 0.8924851417541504\n",
            "Train loss: 0.011946860700845718 | Train accuracy: 0.9978504776954651 | Test loss: 0.5959290266036987 | Test accuracy: 0.8924851417541504\n",
            "Train loss: 0.014917989261448383 | Train accuracy: 0.995701014995575 | Test loss: 0.5805273652076721 | Test accuracy: 0.8905320167541504\n"
          ]
        }
      ],
      "source": [
        "torch.manual_seed(42)\n",
        "\n",
        "train_test_loop(model_cnn, image_train_dataloader, image_test_dataloader, loss_fn, optimizer, accuracy_fn)"
      ]
    },
    {
      "cell_type": "markdown",
      "source": [
        "## Confusion Matrix"
      ],
      "metadata": {
        "id": "bE69IcRCyGq4"
      }
    },
    {
      "cell_type": "code",
      "source": [
        "# making predictions\n",
        "\n",
        "from tqdm.auto import tqdm\n",
        "\n",
        "y_pred_list = []\n",
        "\n",
        "model_cnn.eval()\n",
        "with torch.inference_mode():\n",
        "  for image, label in tqdm(image_test_dataloader):\n",
        "    image, label = image.to(device), label.to(device)\n",
        "\n",
        "    y_pred = model_cnn(image)\n",
        "    y_pred_label = torch.softmax(y_pred, dim = 1).argmax(dim = 1)\n",
        "    y_pred_list.append(y_pred_label.cpu())\n",
        "\n",
        "y_pred_tensor = torch.cat(y_pred_list)\n",
        "y_pred_tensor"
      ],
      "metadata": {
        "id": "Gfchs5Jc5yst",
        "colab": {
          "base_uri": "https://localhost:8080/",
          "height": 66,
          "referenced_widgets": [
            "d416f8c063874f65b4eb53c02740996c",
            "589530abf7904095a096703efae7f1ed",
            "85a12b2fc7a34c989826bf4a10125bd7",
            "62b04bf1875f4ce8ae131db14b48a740",
            "8b23cb7b798d4902af604715919b7b6b",
            "2886bc3b074948258505f6020aa4bb96",
            "b8fae39cbb6b492dbec6a27915cda43c",
            "63a613c8a60442da8c0f7802a73c25bb",
            "8c5dd523a64148b8b1ae68bf1b9a47f3",
            "c0544e70e2be4c869a18b760b37d5c34",
            "4e3fa89a53434fa29179d3756baa3878"
          ]
        },
        "outputId": "a3785e2a-97ae-42c9-9a14-1d161ae82857"
      },
      "execution_count": 90,
      "outputs": [
        {
          "output_type": "display_data",
          "data": {
            "text/plain": [
              "  0%|          | 0/48 [00:00<?, ?it/s]"
            ],
            "application/vnd.jupyter.widget-view+json": {
              "version_major": 2,
              "version_minor": 0,
              "model_id": "d416f8c063874f65b4eb53c02740996c"
            }
          },
          "metadata": {}
        },
        {
          "output_type": "execute_result",
          "data": {
            "text/plain": [
              "tensor([1, 1, 1,  ..., 1, 0, 1])"
            ]
          },
          "metadata": {},
          "execution_count": 90
        }
      ]
    },
    {
      "cell_type": "code",
      "source": [
        "# picking all the targets\n",
        "\n",
        "import numpy as np\n",
        "\n",
        "targets = []\n",
        "\n",
        "for i in image_test_dataset:\n",
        "  targets.append(i[1])\n",
        "\n",
        "targets = np.array(targets)"
      ],
      "metadata": {
        "id": "tVlucXVe0KED"
      },
      "execution_count": 91,
      "outputs": []
    },
    {
      "cell_type": "code",
      "source": [
        "targets"
      ],
      "metadata": {
        "colab": {
          "base_uri": "https://localhost:8080/"
        },
        "id": "ddTfNd_Z1FH4",
        "outputId": "20acd07e-8503-4bbb-ef75-0873566be0ec"
      },
      "execution_count": 92,
      "outputs": [
        {
          "output_type": "execute_result",
          "data": {
            "text/plain": [
              "array([1, 1, 1, ..., 1, 0, 0])"
            ]
          },
          "metadata": {},
          "execution_count": 92
        }
      ]
    },
    {
      "cell_type": "code",
      "source": [
        "from torchmetrics import ConfusionMatrix\n",
        "from mlxtend.plotting import plot_confusion_matrix\n",
        "\n",
        "confusion_matrix = ConfusionMatrix(num_classes = 2, task = \"multiclass\")\n",
        "confusion_matrix_tensor = confusion_matrix(preds = y_pred_tensor, target = torch.from_numpy(targets))\n",
        "\n",
        "plot_confusion_matrix(conf_mat = confusion_matrix_tensor.numpy(), class_names = [\"no mask\", \"with mask\"], figsize = (10, 7))"
      ],
      "metadata": {
        "colab": {
          "base_uri": "https://localhost:8080/",
          "height": 699
        },
        "id": "SmhS0EWPy047",
        "outputId": "f05090f4-c3e3-4ad3-c732-681e65b3ba27"
      },
      "execution_count": 93,
      "outputs": [
        {
          "output_type": "execute_result",
          "data": {
            "text/plain": [
              "(<Figure size 1000x700 with 1 Axes>,\n",
              " <Axes: xlabel='predicted label', ylabel='true label'>)"
            ]
          },
          "metadata": {},
          "execution_count": 93
        },
        {
          "output_type": "display_data",
          "data": {
            "text/plain": [
              "<Figure size 1000x700 with 1 Axes>"
            ],
            "image/png": "[encoded data removed]"
          },
          "metadata": {}
        }
      ]
    },
    {
      "cell_type": "markdown",
      "source": [
        "Which is really according to the accuracy obtained."
      ],
      "metadata": {
        "id": "nLz8ZW_K1fRh"
      }
    },
    {
      "cell_type": "markdown",
      "source": [
        "## Saving the model:"
      ],
      "metadata": {
        "id": "Mrs-AJV81tCO"
      }
    },
    {
      "cell_type": "code",
      "source": [
        "torch.save(obj = model_cnn.state_dict(), f = \"aux_data/cnn_model.pth\")"
      ],
      "metadata": {
        "id": "c8f5dwyY1qcG"
      },
      "execution_count": 94,
      "outputs": []
    }
  ],
  "metadata": {
    "accelerator": "GPU",
    "colab": {
      "gpuType": "T4",
      "provenance": []
    },
    "kernelspec": {
      "display_name": "Python 3 (ipykernel)",
      "language": "python",
      "name": "python3"
    },
    "language_info": {
      "codemirror_mode": {
        "name": "ipython",
        "version": 3
      },
      "file_extension": ".py",
      "mimetype": "text/x-python",
      "name": "python",
      "nbconvert_exporter": "python",
      "pygments_lexer": "ipython3",
      "version": "3.12.4"
    },
    "widgets": {
      "application/vnd.jupyter.widget-state+json": {
        "4f5ee3b247024ceb903329d9634599ce": {
          "model_module": "@jupyter-widgets/controls",
          "model_name": "HBoxModel",
          "model_module_version": "1.5.0",
          "state": {
            "_dom_classes": [],
            "_model_module": "@jupyter-widgets/controls",
            "_model_module_version": "1.5.0",
            "_model_name": "HBoxModel",
            "_view_count": null,
            "_view_module": "@jupyter-widgets/controls",
            "_view_module_version": "1.5.0",
            "_view_name": "HBoxView",
            "box_style": "",
            "children": [
              "IPY_MODEL_5190bcccd0624ecd80e6bc885aa7b8b6",
              "IPY_MODEL_68a04f51aee1479c9a14aa10796fdcdb",
              "IPY_MODEL_d8a9018cf9bd4671b9637fdc4a539f77"
            ],
            "layout": "IPY_MODEL_575e88f0e9244876aedf965bc6ff1afb"
          }
        },
        "5190bcccd0624ecd80e6bc885aa7b8b6": {
          "model_module": "@jupyter-widgets/controls",
          "model_name": "HTMLModel",
          "model_module_version": "1.5.0",
          "state": {
            "_dom_classes": [],
            "_model_module": "@jupyter-widgets/controls",
            "_model_module_version": "1.5.0",
            "_model_name": "HTMLModel",
            "_view_count": null,
            "_view_module": "@jupyter-widgets/controls",
            "_view_module_version": "1.5.0",
            "_view_name": "HTMLView",
            "description": "",
            "description_tooltip": null,
            "layout": "IPY_MODEL_4781b9ede934401d8edf396926f3c6e1",
            "placeholder": "​",
            "style": "IPY_MODEL_bb2483e109ab45ba887ed36de22464a1",
            "value": "100%"
          }
        },
        "68a04f51aee1479c9a14aa10796fdcdb": {
          "model_module": "@jupyter-widgets/controls",
          "model_name": "FloatProgressModel",
          "model_module_version": "1.5.0",
          "state": {
            "_dom_classes": [],
            "_model_module": "@jupyter-widgets/controls",
            "_model_module_version": "1.5.0",
            "_model_name": "FloatProgressModel",
            "_view_count": null,
            "_view_module": "@jupyter-widgets/controls",
            "_view_module_version": "1.5.0",
            "_view_name": "ProgressView",
            "bar_style": "success",
            "description": "",
            "description_tooltip": null,
            "layout": "IPY_MODEL_86d8dee4cafe458981e811c751ed69a5",
            "max": 20,
            "min": 0,
            "orientation": "horizontal",
            "style": "IPY_MODEL_04423ac47fcc4cff803a2b78546a160a",
            "value": 20
          }
        },
        "d8a9018cf9bd4671b9637fdc4a539f77": {
          "model_module": "@jupyter-widgets/controls",
          "model_name": "HTMLModel",
          "model_module_version": "1.5.0",
          "state": {
            "_dom_classes": [],
            "_model_module": "@jupyter-widgets/controls",
            "_model_module_version": "1.5.0",
            "_model_name": "HTMLModel",
            "_view_count": null,
            "_view_module": "@jupyter-widgets/controls",
            "_view_module_version": "1.5.0",
            "_view_name": "HTMLView",
            "description": "",
            "description_tooltip": null,
            "layout": "IPY_MODEL_5b78334d633d4a3bb24af500dd1ccd23",
            "placeholder": "​",
            "style": "IPY_MODEL_15d88a9c8aa543fabe39065f6b435616",
            "value": " 20/20 [04:08&lt;00:00, 12.29s/it]"
          }
        },
        "575e88f0e9244876aedf965bc6ff1afb": {
          "model_module": "@jupyter-widgets/base",
          "model_name": "LayoutModel",
          "model_module_version": "1.2.0",
          "state": {
            "_model_module": "@jupyter-widgets/base",
            "_model_module_version": "1.2.0",
            "_model_name": "LayoutModel",
            "_view_count": null,
            "_view_module": "@jupyter-widgets/base",
            "_view_module_version": "1.2.0",
            "_view_name": "LayoutView",
            "align_content": null,
            "align_items": null,
            "align_self": null,
            "border": null,
            "bottom": null,
            "display": null,
            "flex": null,
            "flex_flow": null,
            "grid_area": null,
            "grid_auto_columns": null,
            "grid_auto_flow": null,
            "grid_auto_rows": null,
            "grid_column": null,
            "grid_gap": null,
            "grid_row": null,
            "grid_template_areas": null,
            "grid_template_columns": null,
            "grid_template_rows": null,
            "height": null,
            "justify_content": null,
            "justify_items": null,
            "left": null,
            "margin": null,
            "max_height": null,
            "max_width": null,
            "min_height": null,
            "min_width": null,
            "object_fit": null,
            "object_position": null,
            "order": null,
            "overflow": null,
            "overflow_x": null,
            "overflow_y": null,
            "padding": null,
            "right": null,
            "top": null,
            "visibility": null,
            "width": null
          }
        },
        "4781b9ede934401d8edf396926f3c6e1": {
          "model_module": "@jupyter-widgets/base",
          "model_name": "LayoutModel",
          "model_module_version": "1.2.0",
          "state": {
            "_model_module": "@jupyter-widgets/base",
            "_model_module_version": "1.2.0",
            "_model_name": "LayoutModel",
            "_view_count": null,
            "_view_module": "@jupyter-widgets/base",
            "_view_module_version": "1.2.0",
            "_view_name": "LayoutView",
            "align_content": null,
            "align_items": null,
            "align_self": null,
            "border": null,
            "bottom": null,
            "display": null,
            "flex": null,
            "flex_flow": null,
            "grid_area": null,
            "grid_auto_columns": null,
            "grid_auto_flow": null,
            "grid_auto_rows": null,
            "grid_column": null,
            "grid_gap": null,
            "grid_row": null,
            "grid_template_areas": null,
            "grid_template_columns": null,
            "grid_template_rows": null,
            "height": null,
            "justify_content": null,
            "justify_items": null,
            "left": null,
            "margin": null,
            "max_height": null,
            "max_width": null,
            "min_height": null,
            "min_width": null,
            "object_fit": null,
            "object_position": null,
            "order": null,
            "overflow": null,
            "overflow_x": null,
            "overflow_y": null,
            "padding": null,
            "right": null,
            "top": null,
            "visibility": null,
            "width": null
          }
        },
        "bb2483e109ab45ba887ed36de22464a1": {
          "model_module": "@jupyter-widgets/controls",
          "model_name": "DescriptionStyleModel",
          "model_module_version": "1.5.0",
          "state": {
            "_model_module": "@jupyter-widgets/controls",
            "_model_module_version": "1.5.0",
            "_model_name": "DescriptionStyleModel",
            "_view_count": null,
            "_view_module": "@jupyter-widgets/base",
            "_view_module_version": "1.2.0",
            "_view_name": "StyleView",
            "description_width": ""
          }
        },
        "86d8dee4cafe458981e811c751ed69a5": {
          "model_module": "@jupyter-widgets/base",
          "model_name": "LayoutModel",
          "model_module_version": "1.2.0",
          "state": {
            "_model_module": "@jupyter-widgets/base",
            "_model_module_version": "1.2.0",
            "_model_name": "LayoutModel",
            "_view_count": null,
            "_view_module": "@jupyter-widgets/base",
            "_view_module_version": "1.2.0",
            "_view_name": "LayoutView",
            "align_content": null,
            "align_items": null,
            "align_self": null,
            "border": null,
            "bottom": null,
            "display": null,
            "flex": null,
            "flex_flow": null,
            "grid_area": null,
            "grid_auto_columns": null,
            "grid_auto_flow": null,
            "grid_auto_rows": null,
            "grid_column": null,
            "grid_gap": null,
            "grid_row": null,
            "grid_template_areas": null,
            "grid_template_columns": null,
            "grid_template_rows": null,
            "height": null,
            "justify_content": null,
            "justify_items": null,
            "left": null,
            "margin": null,
            "max_height": null,
            "max_width": null,
            "min_height": null,
            "min_width": null,
            "object_fit": null,
            "object_position": null,
            "order": null,
            "overflow": null,
            "overflow_x": null,
            "overflow_y": null,
            "padding": null,
            "right": null,
            "top": null,
            "visibility": null,
            "width": null
          }
        },
        "04423ac47fcc4cff803a2b78546a160a": {
          "model_module": "@jupyter-widgets/controls",
          "model_name": "ProgressStyleModel",
          "model_module_version": "1.5.0",
          "state": {
            "_model_module": "@jupyter-widgets/controls",
            "_model_module_version": "1.5.0",
            "_model_name": "ProgressStyleModel",
            "_view_count": null,
            "_view_module": "@jupyter-widgets/base",
            "_view_module_version": "1.2.0",
            "_view_name": "StyleView",
            "bar_color": null,
            "description_width": ""
          }
        },
        "5b78334d633d4a3bb24af500dd1ccd23": {
          "model_module": "@jupyter-widgets/base",
          "model_name": "LayoutModel",
          "model_module_version": "1.2.0",
          "state": {
            "_model_module": "@jupyter-widgets/base",
            "_model_module_version": "1.2.0",
            "_model_name": "LayoutModel",
            "_view_count": null,
            "_view_module": "@jupyter-widgets/base",
            "_view_module_version": "1.2.0",
            "_view_name": "LayoutView",
            "align_content": null,
            "align_items": null,
            "align_self": null,
            "border": null,
            "bottom": null,
            "display": null,
            "flex": null,
            "flex_flow": null,
            "grid_area": null,
            "grid_auto_columns": null,
            "grid_auto_flow": null,
            "grid_auto_rows": null,
            "grid_column": null,
            "grid_gap": null,
            "grid_row": null,
            "grid_template_areas": null,
            "grid_template_columns": null,
            "grid_template_rows": null,
            "height": null,
            "justify_content": null,
            "justify_items": null,
            "left": null,
            "margin": null,
            "max_height": null,
            "max_width": null,
            "min_height": null,
            "min_width": null,
            "object_fit": null,
            "object_position": null,
            "order": null,
            "overflow": null,
            "overflow_x": null,
            "overflow_y": null,
            "padding": null,
            "right": null,
            "top": null,
            "visibility": null,
            "width": null
          }
        },
        "15d88a9c8aa543fabe39065f6b435616": {
          "model_module": "@jupyter-widgets/controls",
          "model_name": "DescriptionStyleModel",
          "model_module_version": "1.5.0",
          "state": {
            "_model_module": "@jupyter-widgets/controls",
            "_model_module_version": "1.5.0",
            "_model_name": "DescriptionStyleModel",
            "_view_count": null,
            "_view_module": "@jupyter-widgets/base",
            "_view_module_version": "1.2.0",
            "_view_name": "StyleView",
            "description_width": ""
          }
        },
        "d416f8c063874f65b4eb53c02740996c": {
          "model_module": "@jupyter-widgets/controls",
          "model_name": "HBoxModel",
          "model_module_version": "1.5.0",
          "state": {
            "_dom_classes": [],
            "_model_module": "@jupyter-widgets/controls",
            "_model_module_version": "1.5.0",
            "_model_name": "HBoxModel",
            "_view_count": null,
            "_view_module": "@jupyter-widgets/controls",
            "_view_module_version": "1.5.0",
            "_view_name": "HBoxView",
            "box_style": "",
            "children": [
              "IPY_MODEL_589530abf7904095a096703efae7f1ed",
              "IPY_MODEL_85a12b2fc7a34c989826bf4a10125bd7",
              "IPY_MODEL_62b04bf1875f4ce8ae131db14b48a740"
            ],
            "layout": "IPY_MODEL_8b23cb7b798d4902af604715919b7b6b"
          }
        },
        "589530abf7904095a096703efae7f1ed": {
          "model_module": "@jupyter-widgets/controls",
          "model_name": "HTMLModel",
          "model_module_version": "1.5.0",
          "state": {
            "_dom_classes": [],
            "_model_module": "@jupyter-widgets/controls",
            "_model_module_version": "1.5.0",
            "_model_name": "HTMLModel",
            "_view_count": null,
            "_view_module": "@jupyter-widgets/controls",
            "_view_module_version": "1.5.0",
            "_view_name": "HTMLView",
            "description": "",
            "description_tooltip": null,
            "layout": "IPY_MODEL_2886bc3b074948258505f6020aa4bb96",
            "placeholder": "​",
            "style": "IPY_MODEL_b8fae39cbb6b492dbec6a27915cda43c",
            "value": "100%"
          }
        },
        "85a12b2fc7a34c989826bf4a10125bd7": {
          "model_module": "@jupyter-widgets/controls",
          "model_name": "FloatProgressModel",
          "model_module_version": "1.5.0",
          "state": {
            "_dom_classes": [],
            "_model_module": "@jupyter-widgets/controls",
            "_model_module_version": "1.5.0",
            "_model_name": "FloatProgressModel",
            "_view_count": null,
            "_view_module": "@jupyter-widgets/controls",
            "_view_module_version": "1.5.0",
            "_view_name": "ProgressView",
            "bar_style": "success",
            "description": "",
            "description_tooltip": null,
            "layout": "IPY_MODEL_63a613c8a60442da8c0f7802a73c25bb",
            "max": 48,
            "min": 0,
            "orientation": "horizontal",
            "style": "IPY_MODEL_8c5dd523a64148b8b1ae68bf1b9a47f3",
            "value": 48
          }
        },
        "62b04bf1875f4ce8ae131db14b48a740": {
          "model_module": "@jupyter-widgets/controls",
          "model_name": "HTMLModel",
          "model_module_version": "1.5.0",
          "state": {
            "_dom_classes": [],
            "_model_module": "@jupyter-widgets/controls",
            "_model_module_version": "1.5.0",
            "_model_name": "HTMLModel",
            "_view_count": null,
            "_view_module": "@jupyter-widgets/controls",
            "_view_module_version": "1.5.0",
            "_view_name": "HTMLView",
            "description": "",
            "description_tooltip": null,
            "layout": "IPY_MODEL_c0544e70e2be4c869a18b760b37d5c34",
            "placeholder": "​",
            "style": "IPY_MODEL_4e3fa89a53434fa29179d3756baa3878",
            "value": " 48/48 [00:00&lt;00:00, 57.08it/s]"
          }
        },
        "8b23cb7b798d4902af604715919b7b6b": {
          "model_module": "@jupyter-widgets/base",
          "model_name": "LayoutModel",
          "model_module_version": "1.2.0",
          "state": {
            "_model_module": "@jupyter-widgets/base",
            "_model_module_version": "1.2.0",
            "_model_name": "LayoutModel",
            "_view_count": null,
            "_view_module": "@jupyter-widgets/base",
            "_view_module_version": "1.2.0",
            "_view_name": "LayoutView",
            "align_content": null,
            "align_items": null,
            "align_self": null,
            "border": null,
            "bottom": null,
            "display": null,
            "flex": null,
            "flex_flow": null,
            "grid_area": null,
            "grid_auto_columns": null,
            "grid_auto_flow": null,
            "grid_auto_rows": null,
            "grid_column": null,
            "grid_gap": null,
            "grid_row": null,
            "grid_template_areas": null,
            "grid_template_columns": null,
            "grid_template_rows": null,
            "height": null,
            "justify_content": null,
            "justify_items": null,
            "left": null,
            "margin": null,
            "max_height": null,
            "max_width": null,
            "min_height": null,
            "min_width": null,
            "object_fit": null,
            "object_position": null,
            "order": null,
            "overflow": null,
            "overflow_x": null,
            "overflow_y": null,
            "padding": null,
            "right": null,
            "top": null,
            "visibility": null,
            "width": null
          }
        },
        "2886bc3b074948258505f6020aa4bb96": {
          "model_module": "@jupyter-widgets/base",
          "model_name": "LayoutModel",
          "model_module_version": "1.2.0",
          "state": {
            "_model_module": "@jupyter-widgets/base",
            "_model_module_version": "1.2.0",
            "_model_name": "LayoutModel",
            "_view_count": null,
            "_view_module": "@jupyter-widgets/base",
            "_view_module_version": "1.2.0",
            "_view_name": "LayoutView",
            "align_content": null,
            "align_items": null,
            "align_self": null,
            "border": null,
            "bottom": null,
            "display": null,
            "flex": null,
            "flex_flow": null,
            "grid_area": null,
            "grid_auto_columns": null,
            "grid_auto_flow": null,
            "grid_auto_rows": null,
            "grid_column": null,
            "grid_gap": null,
            "grid_row": null,
            "grid_template_areas": null,
            "grid_template_columns": null,
            "grid_template_rows": null,
            "height": null,
            "justify_content": null,
            "justify_items": null,
            "left": null,
            "margin": null,
            "max_height": null,
            "max_width": null,
            "min_height": null,
            "min_width": null,
            "object_fit": null,
            "object_position": null,
            "order": null,
            "overflow": null,
            "overflow_x": null,
            "overflow_y": null,
            "padding": null,
            "right": null,
            "top": null,
            "visibility": null,
            "width": null
          }
        },
        "b8fae39cbb6b492dbec6a27915cda43c": {
          "model_module": "@jupyter-widgets/controls",
          "model_name": "DescriptionStyleModel",
          "model_module_version": "1.5.0",
          "state": {
            "_model_module": "@jupyter-widgets/controls",
            "_model_module_version": "1.5.0",
            "_model_name": "DescriptionStyleModel",
            "_view_count": null,
            "_view_module": "@jupyter-widgets/base",
            "_view_module_version": "1.2.0",
            "_view_name": "StyleView",
            "description_width": ""
          }
        },
        "63a613c8a60442da8c0f7802a73c25bb": {
          "model_module": "@jupyter-widgets/base",
          "model_name": "LayoutModel",
          "model_module_version": "1.2.0",
          "state": {
            "_model_module": "@jupyter-widgets/base",
            "_model_module_version": "1.2.0",
            "_model_name": "LayoutModel",
            "_view_count": null,
            "_view_module": "@jupyter-widgets/base",
            "_view_module_version": "1.2.0",
            "_view_name": "LayoutView",
            "align_content": null,
            "align_items": null,
            "align_self": null,
            "border": null,
            "bottom": null,
            "display": null,
            "flex": null,
            "flex_flow": null,
            "grid_area": null,
            "grid_auto_columns": null,
            "grid_auto_flow": null,
            "grid_auto_rows": null,
            "grid_column": null,
            "grid_gap": null,
            "grid_row": null,
            "grid_template_areas": null,
            "grid_template_columns": null,
            "grid_template_rows": null,
            "height": null,
            "justify_content": null,
            "justify_items": null,
            "left": null,
            "margin": null,
            "max_height": null,
            "max_width": null,
            "min_height": null,
            "min_width": null,
            "object_fit": null,
            "object_position": null,
            "order": null,
            "overflow": null,
            "overflow_x": null,
            "overflow_y": null,
            "padding": null,
            "right": null,
            "top": null,
            "visibility": null,
            "width": null
          }
        },
        "8c5dd523a64148b8b1ae68bf1b9a47f3": {
          "model_module": "@jupyter-widgets/controls",
          "model_name": "ProgressStyleModel",
          "model_module_version": "1.5.0",
          "state": {
            "_model_module": "@jupyter-widgets/controls",
            "_model_module_version": "1.5.0",
            "_model_name": "ProgressStyleModel",
            "_view_count": null,
            "_view_module": "@jupyter-widgets/base",
            "_view_module_version": "1.2.0",
            "_view_name": "StyleView",
            "bar_color": null,
            "description_width": ""
          }
        },
        "c0544e70e2be4c869a18b760b37d5c34": {
          "model_module": "@jupyter-widgets/base",
          "model_name": "LayoutModel",
          "model_module_version": "1.2.0",
          "state": {
            "_model_module": "@jupyter-widgets/base",
            "_model_module_version": "1.2.0",
            "_model_name": "LayoutModel",
            "_view_count": null,
            "_view_module": "@jupyter-widgets/base",
            "_view_module_version": "1.2.0",
            "_view_name": "LayoutView",
            "align_content": null,
            "align_items": null,
            "align_self": null,
            "border": null,
            "bottom": null,
            "display": null,
            "flex": null,
            "flex_flow": null,
            "grid_area": null,
            "grid_auto_columns": null,
            "grid_auto_flow": null,
            "grid_auto_rows": null,
            "grid_column": null,
            "grid_gap": null,
            "grid_row": null,
            "grid_template_areas": null,
            "grid_template_columns": null,
            "grid_template_rows": null,
            "height": null,
            "justify_content": null,
            "justify_items": null,
            "left": null,
            "margin": null,
            "max_height": null,
            "max_width": null,
            "min_height": null,
            "min_width": null,
            "object_fit": null,
            "object_position": null,
            "order": null,
            "overflow": null,
            "overflow_x": null,
            "overflow_y": null,
            "padding": null,
            "right": null,
            "top": null,
            "visibility": null,
            "width": null
          }
        },
        "4e3fa89a53434fa29179d3756baa3878": {
          "model_module": "@jupyter-widgets/controls",
          "model_name": "DescriptionStyleModel",
          "model_module_version": "1.5.0",
          "state": {
            "_model_module": "@jupyter-widgets/controls",
            "_model_module_version": "1.5.0",
            "_model_name": "DescriptionStyleModel",
            "_view_count": null,
            "_view_module": "@jupyter-widgets/base",
            "_view_module_version": "1.2.0",
            "_view_name": "StyleView",
            "description_width": ""
          }
        }
      }
    }
  },
  "nbformat": 4,
  "nbformat_minor": 0
}